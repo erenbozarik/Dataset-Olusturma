{
 "cells": [
  {
   "cell_type": "markdown",
   "metadata": {},
   "source": [
    "## Dataset Olusturma\n",
    "by Eren BOZARIK"
   ]
  },
  {
   "cell_type": "code",
   "execution_count": 0,
   "metadata": {
    "colab": {
     "base_uri": "https://localhost:8080/",
     "height": 121
    },
    "colab_type": "code",
    "executionInfo": {
     "elapsed": 160928,
     "status": "ok",
     "timestamp": 1544212534379,
     "user": {
      "displayName": "Eren Bozarık",
      "photoUrl": "https://lh6.googleusercontent.com/-K2RItWNXstw/AAAAAAAAAAI/AAAAAAAAEyQ/TuTqHUyE4Ts/s64/photo.jpg",
      "userId": "06937538731672135283"
     },
     "user_tz": -180
    },
    "id": "X2DYPThjOOaU",
    "outputId": "f7a5d231-ea8e-4b12-f26e-e8e9b0cc1556"
   },
   "outputs": [
    {
     "name": "stdout",
     "output_type": "stream",
     "text": [
      "Go to this URL in a browser: https://accounts.google.com/o/oauth2/auth?client_id=947318989803-6bn6qk8qdgf4n4g3pfee6491hc0brc4i.apps.googleusercontent.com&redirect_uri=urn%3Aietf%3Awg%3Aoauth%3A2.0%3Aoob&scope=email%20https%3A%2F%2Fwww.googleapis.com%2Fauth%2Fdocs.test%20https%3A%2F%2Fwww.googleapis.com%2Fauth%2Fdrive%20https%3A%2F%2Fwww.googleapis.com%2Fauth%2Fdrive.photos.readonly%20https%3A%2F%2Fwww.googleapis.com%2Fauth%2Fpeopleapi.readonly&response_type=code\n",
      "\n",
      "Enter your authorization code:\n",
      "··········\n",
      "Mounted at /content/drive/\n"
     ]
    }
   ],
   "source": [
    "from google.colab import drive\n",
    "drive.mount('/content/drive/')"
   ]
  },
  {
   "cell_type": "code",
   "execution_count": 0,
   "metadata": {
    "colab": {},
    "colab_type": "code",
    "collapsed": true,
    "id": "bAcHP1JZN21-"
   },
   "outputs": [],
   "source": [
    "import numpy as np #Numpy Kutuphanesini entegre ediyoruz\n",
    "from PIL import Image #Resmin pixel degerlerine erisimimizi saglayacak olan PIL kutuphanesini dosyamiza entegre ediyoruz\n",
    "import csv\n",
    "import matplotlib.pyplot as plt"
   ]
  },
  {
   "cell_type": "code",
   "execution_count": 0,
   "metadata": {
    "colab": {},
    "colab_type": "code",
    "collapsed": true,
    "id": "4_LDXIgbN6qM"
   },
   "outputs": [],
   "source": [
    "liste=[]\n",
    "for i in range(1,10):#Buradaki For dongusundeki baslanic ve bitis dosya ismindeki sayilari temsil ediyor. \n",
    "    im = Image.open('/content/drive/My Drive/car/car-{}.jpg'.format(i), 'r') #Drive dosyamizdan 16X16'lik resmimizin yolunu belirtiyor ve r parametresi ile resmin okunmasina olanak taniyoruz\n",
    "    pix_val =np.array(im.getdata())  #PIL kutuphanesinin bir fonksiyonu olan getdata() ile dosyamiza ait verileri cekiyoruz   \n",
    "    liste.append(pix_val)\n",
    "\n",
    "with open('/content/drive/My Drive/car/data/dataset.csv', 'w') as csvfile:\n",
    "  fieldnames = ['image_vals', 'label']\n",
    "  writer = csv.DictWriter(csvfile, fieldnames=fieldnames)\n",
    "  writer.writeheader()\n",
    "  for j in range(len(liste)):\n",
    "    writer.writerow({'image_vals': liste[j], 'label': 'car'})"
   ]
  }
 ],
 "metadata": {
  "accelerator": "GPU",
  "colab": {
   "collapsed_sections": [],
   "name": "GenerateDataset.ipynb",
   "provenance": [],
   "version": "0.3.2"
  },
  "kernelspec": {
   "display_name": "Python 3",
   "language": "python",
   "name": "python3"
  },
  "language_info": {
   "codemirror_mode": {
    "name": "ipython",
    "version": 3
   },
   "file_extension": ".py",
   "mimetype": "text/x-python",
   "name": "python",
   "nbconvert_exporter": "python",
   "pygments_lexer": "ipython3",
   "version": "3.6.2"
  }
 },
 "nbformat": 4,
 "nbformat_minor": 1
}
